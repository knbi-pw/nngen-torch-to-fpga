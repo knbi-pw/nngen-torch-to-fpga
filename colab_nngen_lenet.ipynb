{
  "cells": [
    {
      "cell_type": "markdown",
      "source": [
        "# Install all prerequisities"
      ],
      "metadata": {
        "id": "dXwG04_jlQEz"
      }
    },
    {
      "cell_type": "code",
      "source": [
        "!sudo apt install build-essential -y;"
      ],
      "metadata": {
        "id": "lhGFJIeClFvE"
      },
      "execution_count": null,
      "outputs": []
    },
    {
      "cell_type": "code",
      "source": [
        "!sudo apt install iverilog verilator gtkwave -y;"
      ],
      "metadata": {
        "id": "mia4ycgilAJe"
      },
      "execution_count": null,
      "outputs": []
    },
    {
      "cell_type": "code",
      "source": [
        "!pip3 install jinja2 pyverilog veriloggen numpy onnx"
      ],
      "metadata": {
        "id": "3VO7gJuYkvcD"
      },
      "execution_count": null,
      "outputs": []
    },
    {
      "cell_type": "code",
      "source": [
        "!pip3 install torch torchvision"
      ],
      "metadata": {
        "id": "aOo-cguKk7-d"
      },
      "execution_count": null,
      "outputs": []
    },
    {
      "cell_type": "code",
      "source": [
        "!pip3 install pytest pytest-pythonpath"
      ],
      "metadata": {
        "id": "akQdFJDGk-VE"
      },
      "execution_count": null,
      "outputs": []
    },
    {
      "cell_type": "code",
      "source": [
        "!git clone https://github.com/knbi-pw/nngen.git"
      ],
      "metadata": {
        "id": "WWWwPaR-lfH0"
      },
      "execution_count": null,
      "outputs": []
    },
    {
      "cell_type": "code",
      "source": [
        "!cd nngen && git checkout bugfix_onnx_reshape && cd .."
      ],
      "metadata": {
        "id": "GwxWFTefrGWz"
      },
      "execution_count": null,
      "outputs": []
    },
    {
      "cell_type": "code",
      "source": [
        "!cd nngen && ls -la && python3 setup.py install && cd ../"
      ],
      "metadata": {
        "id": "eOoMH3e-lkUK"
      },
      "execution_count": null,
      "outputs": []
    },
    {
      "cell_type": "markdown",
      "source": [
        "# Restart the kernel to get nngen running in colab"
      ],
      "metadata": {
        "id": "f-3JvSw3rnFN"
      }
    },
    {
      "cell_type": "code",
      "source": [
        "get_ipython().kernel.do_shutdown(True)"
      ],
      "metadata": {
        "id": "NJ4mO1nYrcdh"
      },
      "execution_count": null,
      "outputs": []
    },
    {
      "cell_type": "markdown",
      "source": [
        "# NN stuff below"
      ],
      "metadata": {
        "id": "K3cERkv6r6e5"
      }
    },
    {
      "cell_type": "markdown",
      "source": [
        "## Imports"
      ],
      "metadata": {
        "id": "9N45ribKg7O_"
      }
    },
    {
      "cell_type": "code",
      "source": [
        "from __future__ import absolute_import\n",
        "from __future__ import print_function\n",
        "\n",
        "import os\n",
        "import sys\n",
        "import math\n",
        "import numpy as np\n",
        "import PIL\n",
        "import json\n",
        "\n",
        "import torch\n",
        "import torchvision\n",
        "import torchvision.transforms as transforms\n",
        "from torchsummary import summary\n",
        "import torch.nn as nn\n",
        "import torch.nn.functional as F\n",
        "import torch.autograd\n",
        "import onnx\n",
        "\n",
        "import nngen as ng\n",
        "\n",
        "from veriloggen import *\n",
        "import veriloggen.thread as vthread\n",
        "import veriloggen.types.axi as axi"
      ],
      "metadata": {
        "id": "DzMjqvaog4nS"
      },
      "execution_count": 1,
      "outputs": []
    },
    {
      "cell_type": "markdown",
      "source": [
        "## ONNX tests"
      ],
      "metadata": {
        "id": "z5ewhowhCtlg"
      }
    },
    {
      "cell_type": "markdown",
      "source": [
        "## Load ONNX"
      ],
      "metadata": {
        "id": "K_A61ITthLSD"
      }
    },
    {
      "cell_type": "code",
      "source": [
        "act_dtype=ng.int8\n",
        "weight_dtype=ng.int8\n",
        "bias_dtype=ng.int32\n",
        "scale_dtype=ng.int8\n",
        "with_batchnorm=True\n",
        "disable_fusion=False\n",
        "\n",
        "onnx_filename='/content/cnn_onnx_20220624_160819.onnx'\n",
        "\n",
        "sim_filename=None\n",
        "simtype=None\n",
        "\n",
        "\n",
        "act_shape = (28, 28, 1)  # input image shape\n"
      ],
      "metadata": {
        "id": "hQKOm6u2hVBc"
      },
      "execution_count": 2,
      "outputs": []
    },
    {
      "cell_type": "code",
      "source": [
        "# ONNX to NNgen\n",
        "dtypes = {}\n",
        "(outputs, placeholders, variables,\n",
        " constants, operators) = ng.from_onnx(onnx_filename,\n",
        "                                      value_dtypes=dtypes,\n",
        "                                      default_placeholder_dtype=act_dtype,\n",
        "                                      default_variable_dtype=weight_dtype,\n",
        "                                      default_constant_dtype=weight_dtype,\n",
        "                                      default_operator_dtype=act_dtype,\n",
        "                                      default_scale_dtype=scale_dtype,\n",
        "                                      default_bias_dtype=bias_dtype,\n",
        "                                      disable_fusion=disable_fusion)"
      ],
      "metadata": {
        "id": "PLhjFGyLhPi8"
      },
      "execution_count": 3,
      "outputs": []
    },
    {
      "cell_type": "markdown",
      "source": [
        "## Quantize"
      ],
      "metadata": {
        "id": "zZqhlM1cs267"
      }
    },
    {
      "cell_type": "code",
      "source": [
        "# --------------------\n",
        "# (2) Assign quantized weights to the NNgen operators\n",
        "# --------------------\n",
        "mean = 0.258\n",
        "std = 0.437\n",
        "\n",
        "if act_dtype.width > 8:\n",
        "    act_scale_factor = 128\n",
        "else:\n",
        "    act_scale_factor = int(round(2 ** (act_dtype.width - 1) * 0.5))\n",
        "\n",
        "input_name = 'act'\n",
        "\n",
        "input_scale_factors = {input_name: act_scale_factor}\n",
        "input_means = {input_name: mean * act_scale_factor}\n",
        "input_stds = {input_name: std * act_scale_factor}\n",
        "\n",
        "ng.quantize(outputs, input_scale_factors, input_means, input_stds)"
      ],
      "metadata": {
        "id": "P2pU1v7aFusy"
      },
      "execution_count": 6,
      "outputs": []
    },
    {
      "cell_type": "markdown",
      "source": [
        "## Assign hardware attributes"
      ],
      "metadata": {
        "id": "nBxGIEdWs9-b"
      }
    },
    {
      "cell_type": "code",
      "source": [
        "conv2d_par_ich=1\n",
        "conv2d_par_och=1\n",
        "conv2d_par_col=1\n",
        "conv2d_par_row=1\n",
        "conv2d_concur_och=None\n",
        "conv2d_stationary='filter'\n",
        "pool_par=1\n",
        "elem_par=1\n",
        "\n",
        "for op in operators.values():\n",
        "    if isinstance(op, ng.conv2d):\n",
        "        op.attribute(par_ich=conv2d_par_ich,\n",
        "                     par_och=conv2d_par_och,\n",
        "                     par_col=conv2d_par_col,\n",
        "                     par_row=conv2d_par_row,\n",
        "                     concur_och=conv2d_concur_och,\n",
        "                     stationary=conv2d_stationary)\n",
        "\n",
        "    if isinstance(op, (ng.avg_pool, ng.max_pool,\n",
        "                       ng.avg_pool_serial, ng.max_pool_serial)):\n",
        "        op.attribute(par=pool_par)\n",
        "\n",
        "    if ng.is_elementwise_operator(op):\n",
        "        op.attribute(par=elem_par)"
      ],
      "metadata": {
        "id": "nFYSEeCFs8sm"
      },
      "execution_count": 7,
      "outputs": []
    },
    {
      "cell_type": "markdown",
      "source": [
        "## Generate IP"
      ],
      "metadata": {
        "id": "EQB7dD5ftUKV"
      }
    },
    {
      "cell_type": "code",
      "source": [
        "outputs"
      ],
      "metadata": {
        "id": "ginbfRpDtwWU"
      },
      "execution_count": null,
      "outputs": []
    },
    {
      "cell_type": "code",
      "source": [
        "\n",
        "out = outputs['out']\n",
        "silent=False\n",
        "axi_datawidth=32\n",
        "targ = ng.to_ipxact([out], 'lenet', silent=silent,\n",
        "                    config={'maxi_datawidth': axi_datawidth})"
      ],
      "metadata": {
        "id": "vbemCYKstTmL"
      },
      "execution_count": null,
      "outputs": []
    },
    {
      "cell_type": "markdown",
      "source": [
        "## Save weights"
      ],
      "metadata": {
        "id": "-TqNzwiHElrY"
      }
    },
    {
      "cell_type": "code",
      "source": [
        "weight_filename = \"lenet_weights.npz\"\n",
        "chunk_size=64\n",
        "\n",
        "param_data = ng.export_ndarray([out], chunk_size)\n",
        "param_bytes = len(param_data)\n",
        "np.savez_compressed(weight_filename, param_data)"
      ],
      "metadata": {
        "id": "CIWaQNsMEkIH"
      },
      "execution_count": 12,
      "outputs": []
    },
    {
      "cell_type": "markdown",
      "source": [
        "## Zip IP"
      ],
      "metadata": {
        "id": "6b0ejpRsEpqk"
      }
    },
    {
      "cell_type": "code",
      "source": [
        "!zip -r lenet.zip lenet_v1_0"
      ],
      "metadata": {
        "id": "ZRmyxduF1ChA"
      },
      "execution_count": null,
      "outputs": []
    }
  ],
  "metadata": {
    "kernelspec": {
      "display_name": "Python 3",
      "language": "python",
      "name": "python3"
    },
    "language_info": {
      "codemirror_mode": {
        "name": "ipython",
        "version": 3
      },
      "file_extension": ".py",
      "mimetype": "text/x-python",
      "name": "python",
      "nbconvert_exporter": "python",
      "pygments_lexer": "ipython3",
      "version": "3.7.7"
    },
    "colab": {
      "name": "colab-nngen-lenet.ipynb",
      "provenance": []
    }
  },
  "nbformat": 4,
  "nbformat_minor": 0
}
